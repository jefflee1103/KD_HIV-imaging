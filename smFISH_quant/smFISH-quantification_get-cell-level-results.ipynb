{
 "cells": [
  {
   "attachments": {},
   "cell_type": "markdown",
   "metadata": {},
   "source": [
    "# Get cell level results\n",
    "## Using manual label mask + bigfish output"
   ]
  },
  {
   "cell_type": "code",
   "execution_count": 1,
   "metadata": {},
   "outputs": [
    {
     "name": "stderr",
     "output_type": "stream",
     "text": [
      "/opt/miniconda3/envs/bigfish_env/lib/python3.7/site-packages/sklearn/linear_model/least_angle.py:35: DeprecationWarning: `np.float` is a deprecated alias for the builtin `float`. To silence this warning, use `float` by itself. Doing this will not modify any behavior and is safe. If you specifically wanted the numpy scalar type, use `np.float64` here.\n",
      "Deprecated in NumPy 1.20; for more details and guidance: https://numpy.org/devdocs/release/1.20.0-notes.html#deprecations\n",
      "  eps=np.finfo(np.float).eps,\n",
      "/opt/miniconda3/envs/bigfish_env/lib/python3.7/site-packages/sklearn/linear_model/least_angle.py:597: DeprecationWarning: `np.float` is a deprecated alias for the builtin `float`. To silence this warning, use `float` by itself. Doing this will not modify any behavior and is safe. If you specifically wanted the numpy scalar type, use `np.float64` here.\n",
      "Deprecated in NumPy 1.20; for more details and guidance: https://numpy.org/devdocs/release/1.20.0-notes.html#deprecations\n",
      "  eps=np.finfo(np.float).eps, copy_X=True, fit_path=True,\n",
      "/opt/miniconda3/envs/bigfish_env/lib/python3.7/site-packages/sklearn/linear_model/least_angle.py:836: DeprecationWarning: `np.float` is a deprecated alias for the builtin `float`. To silence this warning, use `float` by itself. Doing this will not modify any behavior and is safe. If you specifically wanted the numpy scalar type, use `np.float64` here.\n",
      "Deprecated in NumPy 1.20; for more details and guidance: https://numpy.org/devdocs/release/1.20.0-notes.html#deprecations\n",
      "  eps=np.finfo(np.float).eps, copy_X=True, fit_path=True,\n",
      "/opt/miniconda3/envs/bigfish_env/lib/python3.7/site-packages/sklearn/linear_model/least_angle.py:862: DeprecationWarning: `np.float` is a deprecated alias for the builtin `float`. To silence this warning, use `float` by itself. Doing this will not modify any behavior and is safe. If you specifically wanted the numpy scalar type, use `np.float64` here.\n",
      "Deprecated in NumPy 1.20; for more details and guidance: https://numpy.org/devdocs/release/1.20.0-notes.html#deprecations\n",
      "  eps=np.finfo(np.float).eps, positive=False):\n",
      "/opt/miniconda3/envs/bigfish_env/lib/python3.7/site-packages/sklearn/linear_model/least_angle.py:1097: DeprecationWarning: `np.float` is a deprecated alias for the builtin `float`. To silence this warning, use `float` by itself. Doing this will not modify any behavior and is safe. If you specifically wanted the numpy scalar type, use `np.float64` here.\n",
      "Deprecated in NumPy 1.20; for more details and guidance: https://numpy.org/devdocs/release/1.20.0-notes.html#deprecations\n",
      "  max_n_alphas=1000, n_jobs=None, eps=np.finfo(np.float).eps,\n",
      "/opt/miniconda3/envs/bigfish_env/lib/python3.7/site-packages/sklearn/linear_model/least_angle.py:1344: DeprecationWarning: `np.float` is a deprecated alias for the builtin `float`. To silence this warning, use `float` by itself. Doing this will not modify any behavior and is safe. If you specifically wanted the numpy scalar type, use `np.float64` here.\n",
      "Deprecated in NumPy 1.20; for more details and guidance: https://numpy.org/devdocs/release/1.20.0-notes.html#deprecations\n",
      "  max_n_alphas=1000, n_jobs=None, eps=np.finfo(np.float).eps,\n",
      "/opt/miniconda3/envs/bigfish_env/lib/python3.7/site-packages/sklearn/linear_model/least_angle.py:1480: DeprecationWarning: `np.float` is a deprecated alias for the builtin `float`. To silence this warning, use `float` by itself. Doing this will not modify any behavior and is safe. If you specifically wanted the numpy scalar type, use `np.float64` here.\n",
      "Deprecated in NumPy 1.20; for more details and guidance: https://numpy.org/devdocs/release/1.20.0-notes.html#deprecations\n",
      "  eps=np.finfo(np.float).eps, copy_X=True, positive=False):\n",
      "/opt/miniconda3/envs/bigfish_env/lib/python3.7/site-packages/sklearn/linear_model/randomized_l1.py:152: DeprecationWarning: `np.float` is a deprecated alias for the builtin `float`. To silence this warning, use `float` by itself. Doing this will not modify any behavior and is safe. If you specifically wanted the numpy scalar type, use `np.float64` here.\n",
      "Deprecated in NumPy 1.20; for more details and guidance: https://numpy.org/devdocs/release/1.20.0-notes.html#deprecations\n",
      "  precompute=False, eps=np.finfo(np.float).eps,\n",
      "/opt/miniconda3/envs/bigfish_env/lib/python3.7/site-packages/sklearn/linear_model/randomized_l1.py:320: DeprecationWarning: `np.float` is a deprecated alias for the builtin `float`. To silence this warning, use `float` by itself. Doing this will not modify any behavior and is safe. If you specifically wanted the numpy scalar type, use `np.float64` here.\n",
      "Deprecated in NumPy 1.20; for more details and guidance: https://numpy.org/devdocs/release/1.20.0-notes.html#deprecations\n",
      "  eps=np.finfo(np.float).eps, random_state=None,\n",
      "/opt/miniconda3/envs/bigfish_env/lib/python3.7/site-packages/sklearn/linear_model/randomized_l1.py:580: DeprecationWarning: `np.float` is a deprecated alias for the builtin `float`. To silence this warning, use `float` by itself. Doing this will not modify any behavior and is safe. If you specifically wanted the numpy scalar type, use `np.float64` here.\n",
      "Deprecated in NumPy 1.20; for more details and guidance: https://numpy.org/devdocs/release/1.20.0-notes.html#deprecations\n",
      "  eps=4 * np.finfo(np.float).eps, n_jobs=None,\n",
      "/opt/miniconda3/envs/bigfish_env/lib/python3.7/site-packages/sklearn/decomposition/online_lda.py:31: DeprecationWarning: `np.float` is a deprecated alias for the builtin `float`. To silence this warning, use `float` by itself. Doing this will not modify any behavior and is safe. If you specifically wanted the numpy scalar type, use `np.float64` here.\n",
      "Deprecated in NumPy 1.20; for more details and guidance: https://numpy.org/devdocs/release/1.20.0-notes.html#deprecations\n",
      "  EPS = np.finfo(np.float).eps\n"
     ]
    }
   ],
   "source": [
    "import os\n",
    "import numpy as np\n",
    "import tifffile\n",
    "import bigfish\n",
    "import bigfish.stack as stack\n",
    "import bigfish.segmentation as segmentation\n",
    "import bigfish.plot as plot\n",
    "import bigfish.detection as detection\n",
    "import pandas as pd\n",
    "import pathlib"
   ]
  },
  {
   "attachments": {},
   "cell_type": "markdown",
   "metadata": {},
   "source": [
    "## Define spots and mask file directories"
   ]
  },
  {
   "cell_type": "code",
   "execution_count": 36,
   "metadata": {},
   "outputs": [],
   "source": [
    "spots_dir = \"./smFISH_quantification_output/rep1/\"\n",
    "mask_dir = \"/Volumes/Jeff-exFAT/Kate_smFISH/rep1/\"\n",
    "npz_output_dir = \"/Volumes/Jeff-exFAT/Kate_smFISH/rep1/cell-level-results/\"\n",
    "csv_output = \"./smFISH_quantification_output/final_outpus/\""
   ]
  },
  {
   "cell_type": "code",
   "execution_count": 42,
   "metadata": {},
   "outputs": [],
   "source": [
    "def get_final_csv(spots_dir, mask_dir, npz_output_dir, csv_output):\n",
    "    ## Get spots array\n",
    "    infiles = [x for x in os.listdir(spots_dir) if x.endswith('.npy')]\n",
    "\n",
    "    for infile in infiles:\n",
    "        spots_post_clustering = np.load(pathlib.Path(spots_dir).joinpath(infile))\n",
    "\n",
    "        ## Get the mask (label image) file\n",
    "        image_name = pathlib.Path(infile).stem\n",
    "        mask_path = pathlib.Path(mask_dir).joinpath(f\"{image_name[:-8]}_MA_mask.tiff\")\n",
    "        if os.path.exists(mask_path):\n",
    "            masks = tifffile.imread(mask_path)\n",
    "\n",
    "            ## Flatten mask channels\n",
    "            masks = np.sum(masks, 0)\n",
    "\n",
    "            ## Distribute spots\n",
    "            fov_results = stack.extract_cell(\n",
    "                cell_label=masks.astype(np.int64),\n",
    "                ndim=3,\n",
    "                rna_coord=spots_post_clustering\n",
    "            )\n",
    "\n",
    "            ## Save individual cell-level results\n",
    "            for i, cell_results in enumerate(fov_results):\n",
    "                output_path = pathlib.Path(npz_output_dir).joinpath(\n",
    "                    f\"{image_name}_results_cell_{i}.npz\"\n",
    "                )\n",
    "                stack.save_cell_extracted(cell_results, str(output_path))\n",
    "        else:\n",
    "            print (f'The file {mask_path} does not exist')\n",
    "\n",
    "\n",
    "    ## Create final csv output file\n",
    "    in_npz = [x for x in os.listdir(npz_output_dir) if x.endswith('.npz')]\n",
    "\n",
    "    file_name = []\n",
    "    total_RNAs = []\n",
    "        \n",
    "    for file in in_npz:\n",
    "        data = np.load(os.path.join(npz_output_dir, file))\n",
    "        file_name.append(file)\n",
    "        total_RNAs.append(data['rna_coord'].shape[0])\n",
    "            \n",
    "    # Inspect dataframe\n",
    "    data_tall = pd.DataFrame(list(zip(file_name, total_RNAs)),\n",
    "                columns =['file_name', 'total_RNAs'])\n",
    "\n",
    "    data_tall.to_csv(csv_output)\n",
    "    print('done')\n"
   ]
  },
  {
   "attachments": {},
   "cell_type": "markdown",
   "metadata": {},
   "source": [
    "## 72 hpi 3 reps"
   ]
  },
  {
   "cell_type": "code",
   "execution_count": 47,
   "metadata": {},
   "outputs": [
    {
     "name": "stdout",
     "output_type": "stream",
     "text": [
      "The file /Volumes/Jeff-exFAT/Kate_smFISH/rep1/20221123_221123_smFISH_72hpi_WT_no_virus_007_MA_mask.tiff does not exist\n",
      "done\n",
      "done\n",
      "done\n"
     ]
    }
   ],
   "source": [
    "## Rep 1\n",
    "get_final_csv(\n",
    "    spots_dir =\"./smFISH_quantification_output/72hpi/rep1/\",\n",
    "    mask_dir =\"/Volumes/Jeff-exFAT/Kate_smFISH/rep1/\",\n",
    "    npz_output_dir =\"/Volumes/Jeff-exFAT/Kate_smFISH/rep1/\",\n",
    "    csv_output =\"./smFISH_quantification_output/final_outpus/72hpi_rep1.csv\"\n",
    ")\n",
    "## Rep 2\n",
    "get_final_csv(\n",
    "    spots_dir =\"./smFISH_quantification_output/72hpi/rep2/\",\n",
    "    mask_dir =\"/Volumes/Jeff-exFAT/Kate_smFISH/rep2/\",\n",
    "    npz_output_dir =\"/Volumes/Jeff-exFAT/Kate_smFISH/rep2/\",\n",
    "    csv_output =\"./smFISH_quantification_output/final_outpus/72hpi_rep2.csv\"\n",
    ")\n",
    "## Rep 3\n",
    "get_final_csv(\n",
    "    spots_dir =\"./smFISH_quantification_output/72hpi/rep3/\",\n",
    "    mask_dir =\"/Volumes/Jeff-exFAT/Kate_smFISH/rep3/\",\n",
    "    npz_output_dir =\"/Volumes/Jeff-exFAT/Kate_smFISH/rep3/\",\n",
    "    csv_output =\"./smFISH_quantification_output/final_outpus/72hpi_rep3.csv\"\n",
    ")"
   ]
  }
 ],
 "metadata": {
  "kernelspec": {
   "display_name": "bigfish_env",
   "language": "python",
   "name": "python3"
  },
  "language_info": {
   "codemirror_mode": {
    "name": "ipython",
    "version": 3
   },
   "file_extension": ".py",
   "mimetype": "text/x-python",
   "name": "python",
   "nbconvert_exporter": "python",
   "pygments_lexer": "ipython3",
   "version": "3.7.12"
  },
  "orig_nbformat": 4,
  "vscode": {
   "interpreter": {
    "hash": "496b5c86bed5a744d0186162a203b2e83d8fe1bac999fac3e909b2068634c307"
   }
  }
 },
 "nbformat": 4,
 "nbformat_minor": 2
}
